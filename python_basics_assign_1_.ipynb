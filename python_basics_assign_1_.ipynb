{
  "nbformat": 4,
  "nbformat_minor": 0,
  "metadata": {
    "colab": {
      "provenance": []
    },
    "kernelspec": {
      "name": "python3",
      "display_name": "Python 3"
    },
    "language_info": {
      "name": "python"
    }
  },
  "cells": [
    {
      "cell_type": "markdown",
      "source": [
        "# Theory assignment"
      ],
      "metadata": {
        "id": "rtHIaq5krBTP"
      }
    },
    {
      "cell_type": "markdown",
      "source": [
        "1. What is Python, and why is it popular?\n",
        "\n",
        "- Python is a versatile, high-level, easy to read programming language with a focus on readability and efficiency. It is first released in 1991.\n",
        "\n",
        "* It is easy to learn.\n",
        "* It have open sourse and community support.\n",
        "* It is versatile.\n",
        "* It has high standard library.\n",
        "* It has coroprate sponsorship and industry adoption.\n",
        "* It is efficient for many tasks and reliable  for building robust applications."
      ],
      "metadata": {
        "id": "s-vWS5fOrKGF"
      }
    },
    {
      "cell_type": "markdown",
      "source": [
        "2. What is an interpreter in Python?\n",
        "- Python interpreter is a program that reads and executes python code line by line.\n",
        "- It translates and executes the code on the fly.\n",
        "- Unlike complied languages,  it dosen't translate the entire program into machine code before running it."
      ],
      "metadata": {
        "id": "AzsMfB4ht_9W"
      }
    },
    {
      "cell_type": "markdown",
      "source": [
        "3. What are pre-defined keywords in Python?\n",
        "- Keywords are pre-defined, reserved words used in python programming that have special meaning and have specific purpose.\n",
        "- Eg. True, False, if, elif, else,... etc."
      ],
      "metadata": {
        "id": "Wz9WYDvVvems"
      }
    },
    {
      "cell_type": "markdown",
      "source": [
        "4. Can keywords be used as variable names?\n",
        "- No, because it will give an error as it would confuses python interpreter.\n"
      ],
      "metadata": {
        "id": "blU8z38YykuL"
      }
    },
    {
      "cell_type": "markdown",
      "source": [
        "5. What is mutability in Python?\n",
        "- Mutability is defined as the ability to change or modify an object after it has been created.\n",
        "- List is a type of mutable oject.\n"
      ],
      "metadata": {
        "id": "ZiJ0gy12zhom"
      }
    },
    {
      "cell_type": "markdown",
      "source": [
        "6. Why are lists mutable, but tuples are immutable?\n",
        "-> (a) Lists:\n",
        "- It is designed for situations where the data is collection might need to change over time.\n",
        "- Lists are ideal for dynamic data, such as to-do list, shopping cart.\n",
        "- Their flexibility makes suitable for frequent data manipulation and modifications.\n",
        "-> (b) Tuples:\n",
        "- Once it is created, its elements cannot be changed, added, or removed.\n",
        "- They are best suited for situations where data integrity is most important.\n",
        "- It is used to ensure the data remains constant throughout the program."
      ],
      "metadata": {
        "id": "7L5SLXDezhlR"
      }
    },
    {
      "cell_type": "markdown",
      "source": [
        "7. What is the difference between “==” and “is” operators in Python?\n",
        "- Both these operators are used for comparison, but they serve distinct purposes related to an object's value and it's identity.\n",
        "\n",
        "(i) \"==\" (equality operator): This operators compares the value of two objects. it evaluates whether the contents of the objects are same. They returns \"True\" when values of both operands are equal. Eg- list_1 == list_2 (compares contents).\n",
        "\n",
        "(ii)  \"is\" (identity operators): This operators checks if two variables refer to the same object in memory. They return \"True\" when both variables refer to the exact same object. They checks if variables point to the same object in memory. Eg- list_1 is list-2 (compares memory addresses)\n"
      ],
      "metadata": {
        "id": "Hr2gsk1czhiH"
      }
    },
    {
      "cell_type": "markdown",
      "source": [
        "8. What are logical operators in Python?\n",
        "-  In python, logical operators are also used to combine conditional statements or expressions and return a Boolean result: either True or False. This is also called Boolean operators.\n",
        "\n",
        "There are 3 main logical operators:\n",
        "\n",
        "(i) 'Logical AND' :- This operator returns 'True' only if both are true. Eg. True and True ---> True.\n",
        "\n",
        "(ii) 'Logical OR' :- This operator returns 'True' if at least one is true. Eg. True or False ---> True.\n",
        "\n",
        "(iii) 'Logical NOT' :- This operator inverts the boolean value. Eg.\n",
        " not True ---> False, not False ---> True."
      ],
      "metadata": {
        "id": "RaJ0gdH1zhe9"
      }
    },
    {
      "cell_type": "markdown",
      "source": [
        "9. What is type casting in Python?\n",
        "-  It is the process of changing the data type of object/ value from one to another. It allows to manipulate and work with different type of data effeciently.\n",
        "-  There are 2 types: (i) Implicit type casting :-> Here python automatically converts one data type to another when needed.\n",
        "\n",
        "(ii) Explicit type casting :-> Here we manually convert one type to another using various functions.\n",
        "\n",
        "-  Type casting is useful for user input, mathematical operations and data cleaning."
      ],
      "metadata": {
        "id": "PEsHP5srzhP-"
      }
    },
    {
      "cell_type": "markdown",
      "source": [
        "10. What is the difference between implicit and explicit type casting?\n",
        "-   Type casting refers to the process of converting a variable's data type into another type.\n",
        "\n",
        "(i) Implicit type casting:\n",
        "\n",
        " (a) This conversion occurs automatically during computations or assignments when python detects incompatible data types.\n",
        "\n",
        " (b) Here no user intervention required.\n",
        "\n",
        " (c) The purpose is to prevent data loss and data integrity in operations.\n",
        "\n",
        "(ii) Explicit type casting:\n",
        "\n",
        "(a) This type conversion requires the programmer to explicity use built-in functions like 'int(), float(), str(),...etc' to convert the value from one data type to another.\n",
        "\n",
        "(b) Here user intervention is required explict instructions from programmer.\n",
        "\n",
        "(c) It is used for precise control over data conversion, even with potential data loss.\n"
      ],
      "metadata": {
        "id": "Yzplbj8izhG2"
      }
    },
    {
      "cell_type": "markdown",
      "source": [
        "11. What is the purpose of conditional statements in Python?\n",
        "-  In python, conditional statement are used to make decision in code. They allow program to perform different actions based on different conditions.\n",
        "\n",
        "- Common conditional statements in python:\n",
        "\n",
        "(i) 'if' :-> checks a condition and runs the block if it's True.\n",
        "\n",
        "(ii) 'elif' :-> checks another condition if the previous one is False.\n",
        "\n",
        "(iii) 'else' :-> runs a block if none of the above conditions are True."
      ],
      "metadata": {
        "id": "iCkflwpyzg5f"
      }
    },
    {
      "cell_type": "markdown",
      "source": [
        "12. How does the elif statement work?\n",
        "-   The elif statement lets us check multiple conditions, one after another, after an if statement.\n",
        "\n",
        "- Python checks each condition in order.\n",
        "- As soon as one condition is True, it executes that block and skips the rest.\n",
        "- If none of the conditions are True, it goes to the else block.\n",
        "- We can have multiple elif blocks, but only one if and one else block."
      ],
      "metadata": {
        "id": "G2S0n5MgSjYQ"
      }
    },
    {
      "cell_type": "markdown",
      "source": [
        "13. What is the difference between for and while loops?\n",
        "-   Both for and while Loops are used to repeat a block of code, but they are used in different situations depending on what you're looping over and how you control the loop.\n",
        "\n",
        "(I) for Loop :\n",
        "\n",
        "i) It is used when we know how many times to Loop (fixed).\n",
        "\n",
        "ii) Condition type is Loops over a sequence (like list).\n",
        "\n",
        "iii) Less risk of infinite Loop.\n",
        "\n",
        "(II) while Loop :    \n",
        "i) It is used when we don't know how many times to Loop (uncertain).\n",
        "\n",
        "ii) Condition type is Loops based on condition being True.\n",
        "\n",
        "iii) Risk of infinite Loop is more likely if the condition isn't updated"
      ],
      "metadata": {
        "id": "eaMEbSwSSjQC"
      }
    },
    {
      "cell_type": "markdown",
      "source": [
        "14. Describe a scenario where a while loop is more suitable than a for loop.\n",
        "-    While both for and while loops are used for iteration, a while loop is generally more suitable when you don't know the exact number of iterations needed in advance, and the loop's continuation depends on a specific condition being met or becoming false."
      ],
      "metadata": {
        "id": "96SH6rfmSjBs"
      }
    },
    {
      "cell_type": "code",
      "source": [],
      "metadata": {
        "id": "7I484yHtSiZu"
      },
      "execution_count": null,
      "outputs": []
    },
    {
      "cell_type": "markdown",
      "source": [
        "# Practical section"
      ],
      "metadata": {
        "id": "zPxR-GjGaQs-"
      }
    },
    {
      "cell_type": "markdown",
      "source": [
        "1. Write a Python program to print \"Hello, World!\""
      ],
      "metadata": {
        "id": "YQtUre1wu2PK"
      }
    },
    {
      "cell_type": "code",
      "source": [
        "print(\"Hello, World!\")"
      ],
      "metadata": {
        "colab": {
          "base_uri": "https://localhost:8080/"
        },
        "id": "hQvmYPlDbHEM",
        "outputId": "0b00a241-d3bf-430b-9ff6-eab50fc28c1a"
      },
      "execution_count": 5,
      "outputs": [
        {
          "output_type": "stream",
          "name": "stdout",
          "text": [
            "Hello, World!\n"
          ]
        }
      ]
    },
    {
      "cell_type": "markdown",
      "source": [
        " 2. Write a Python program that displays your name and age"
      ],
      "metadata": {
        "id": "LU4b1ukMuxnH"
      }
    },
    {
      "cell_type": "code",
      "source": [
        "name = (\"Mrunali \")\n",
        "age = (\"22\")"
      ],
      "metadata": {
        "id": "6VNwdoAKca3W"
      },
      "execution_count": null,
      "outputs": []
    },
    {
      "cell_type": "code",
      "source": [
        "print(name)\n",
        "print(age)"
      ],
      "metadata": {
        "colab": {
          "base_uri": "https://localhost:8080/"
        },
        "id": "8PgTYnk6g2en",
        "outputId": "43203fd6-3085-46c2-c1d7-4a6abeb23be8"
      },
      "execution_count": 19,
      "outputs": [
        {
          "output_type": "stream",
          "name": "stdout",
          "text": [
            "Mrunali \n",
            "22\n"
          ]
        }
      ]
    },
    {
      "cell_type": "markdown",
      "source": [
        " 3. Write code to print all the pre-defined keywords in Python using the keyword library."
      ],
      "metadata": {
        "id": "Gl55P2y1utZi"
      }
    },
    {
      "cell_type": "code",
      "source": [
        "help(\"keywords\")"
      ],
      "metadata": {
        "colab": {
          "base_uri": "https://localhost:8080/"
        },
        "id": "b0P4Wqj6dJR7",
        "outputId": "493a45a9-4a7a-4a0a-be52-d34dba94022f"
      },
      "execution_count": 9,
      "outputs": [
        {
          "output_type": "stream",
          "name": "stdout",
          "text": [
            "\n",
            "Here is a list of the Python keywords.  Enter any keyword to get more help.\n",
            "\n",
            "False               class               from                or\n",
            "None                continue            global              pass\n",
            "True                def                 if                  raise\n",
            "and                 del                 import              return\n",
            "as                  elif                in                  try\n",
            "assert              else                is                  while\n",
            "async               except              lambda              with\n",
            "await               finally             nonlocal            yield\n",
            "break               for                 not                 \n",
            "\n"
          ]
        }
      ]
    },
    {
      "cell_type": "markdown",
      "source": [
        "4. Write a program that checks if a given word is a Python keyword."
      ],
      "metadata": {
        "id": "avF4uc6cupdC"
      }
    },
    {
      "cell_type": "code",
      "source": [
        "import keyword\n",
        "\n",
        "word = input(\"Enter the keywords: \")\n",
        "\n",
        "if keyword.iskeyword(word):\n",
        "    print(f\"{word} is a Python keyword.\")\n",
        "else:\n",
        "    print(f\"{word} is not a Python keyword.\")"
      ],
      "metadata": {
        "colab": {
          "base_uri": "https://localhost:8080/"
        },
        "id": "HZXgrbaYeVTw",
        "outputId": "80463153-b749-4e58-cf89-96a3362b43bd"
      },
      "execution_count": 38,
      "outputs": [
        {
          "output_type": "stream",
          "name": "stdout",
          "text": [
            "Enter the keywords: True\n",
            "True is a Python keyword.\n"
          ]
        }
      ]
    },
    {
      "cell_type": "markdown",
      "source": [
        " 5. Create a list and tuple in Python, and demonstrate how attempting to change an element works differently for each."
      ],
      "metadata": {
        "id": "jnMtJ5dRul0t"
      }
    },
    {
      "cell_type": "code",
      "source": [
        "list1 = [2, 10, \"School\", 35]\n",
        "tuple1 = (15, \"College\", 26)\n",
        "\n",
        "#attempting to change an element in a list\n",
        "\n",
        "print(f\"Original List is : {list1}\")\n",
        "\n",
        "list1[2] = 15\n",
        "print(f\"updated list is : {list1}\")\n",
        "\n",
        "#attempting to change an element in a tuple\n",
        "\n",
        "print(f\"Original Tuple is : {tuple1}\")\n",
        "\n",
        "try:\n",
        "  tuple1[2] = 16\n",
        "except TypeError as e:\n",
        "  print(f\"Error attempting to modify tuple is: {e}\")"
      ],
      "metadata": {
        "colab": {
          "base_uri": "https://localhost:8080/"
        },
        "id": "6pEs8Di6fNZa",
        "outputId": "d81c829d-6e42-4d53-f895-d75dfe417432"
      },
      "execution_count": 41,
      "outputs": [
        {
          "output_type": "stream",
          "name": "stdout",
          "text": [
            "Original List is : [2, 10, 'School', 35]\n",
            "updated list is : [2, 10, 15, 35]\n",
            "Original Tuple is : (15, 'College', 26)\n",
            "Error attempting to modify tuple is: 'tuple' object does not support item assignment\n"
          ]
        }
      ]
    },
    {
      "cell_type": "markdown",
      "source": [
        "6. Write a function to demonstrate the behavior of mutable and immutable arguments."
      ],
      "metadata": {
        "id": "lwpCzw0wuiD-"
      }
    },
    {
      "cell_type": "code",
      "source": [
        "def demonstrate_mutability(num1, list1):\n",
        "    print(\"Before modification:\")\n",
        "    print(f\"  num1 = {num1}, id: {id(num1)}\")\n",
        "    print(f\"  list1 = {list1}, id: {id(list1)}\")\n",
        "\n",
        "    # Attempting to modify the arguments\n",
        "    num1 += 10\n",
        "    list1.append(10)\n",
        "\n",
        "    print(\"After modification:\")\n",
        "    print(f\"  num1 = {num1}, id: {id(num1)}\")\n",
        "    print(f\"  list1 = {list1}, id: {id(list1)}\")\n",
        "\n",
        "# Immutable integer\n",
        "x = 5\n",
        "\n",
        "# Mutable list\n",
        "y = [1, 2, 3]\n",
        "\n",
        "demonstrate_mutability(x, y)\n",
        "\n",
        "print(\"Outside the function:\")\n",
        "print(f\"  x = {x}, id: {id(x)}\")       # Still 5, unchanged (immutable)\n",
        "print(f\"  y = {y}, id: {id(y)}\")       # Modified to include 10 (mutable)"
      ],
      "metadata": {
        "colab": {
          "base_uri": "https://localhost:8080/"
        },
        "id": "ClrmmcvpqpLI",
        "outputId": "244d59b6-8f84-48e5-ca19-d275be8ccc50"
      },
      "execution_count": 40,
      "outputs": [
        {
          "output_type": "stream",
          "name": "stdout",
          "text": [
            "Before modification:\n",
            "  num1 = 5, id: 10757864\n",
            "  list1 = [1, 2, 3], id: 134569665156288\n",
            "After modification:\n",
            "  num1 = 15, id: 10758184\n",
            "  list1 = [1, 2, 3, 10], id: 134569665156288\n",
            "Outside the function:\n",
            "  x = 5, id: 10757864\n",
            "  y = [1, 2, 3, 10], id: 134569665156288\n"
          ]
        }
      ]
    },
    {
      "cell_type": "markdown",
      "source": [
        "7. Write a program that performs basic arithmetic operations on two user-input numbers."
      ],
      "metadata": {
        "id": "p-bMW7_suafB"
      }
    },
    {
      "cell_type": "code",
      "source": [
        "a = int(input(\"enter first number: \"))\n",
        "b = int(input(\"enter second number: \"))\n",
        "\n",
        "# Arithmetic operations on two user-input numbers.\n",
        "\n",
        "print(\"select the arithmetic operation\")\n",
        "print(\"1 for addition\")\n",
        "print(\"2 for subtraction\")\n",
        "print(\"3 for multiplication\")\n",
        "print(\"4 for division\")\n",
        "\n",
        "choice = input(f\"enter choice 1/2/3/4 : \")\n",
        "\n",
        "if choice == '1':\n",
        "  print(f\"addition of these numbers is {a+b}\")\n",
        "elif choice == '2':\n",
        "  print(f\"subtraction of these numbers is {a-b}\")\n",
        "elif choice == '3':\n",
        "  print(f\"multiplication of these numbers is {a*b}\")\n",
        "elif choice == '4':\n",
        "  print(f\"division of these numbers is {a/b}\")\n",
        "else:\n",
        "  print(\"enter choice 1/2/3/4 for arithmetical operation\")\n",
        ""
      ],
      "metadata": {
        "colab": {
          "base_uri": "https://localhost:8080/"
        },
        "id": "abuUNrU9fjfq",
        "outputId": "6b8aa967-2b57-4d91-92f1-364fda424514"
      },
      "execution_count": 42,
      "outputs": [
        {
          "output_type": "stream",
          "name": "stdout",
          "text": [
            "enter first number: 45\n",
            "enter second number: 33\n",
            "select the arithmetic operation\n",
            "1 for addition\n",
            "2 for subtraction\n",
            "3 for multiplication\n",
            "4 for division\n",
            "enter choice 1/2/3/4 : 4\n",
            "division of these numbers is 1.3636363636363635\n"
          ]
        }
      ]
    },
    {
      "cell_type": "markdown",
      "source": [
        " 8. Write a program to demonstrate the use of logical operators."
      ],
      "metadata": {
        "id": "6sSUHFGeuWvR"
      }
    },
    {
      "cell_type": "code",
      "source": [
        "'''The 'and' operator print only when both the condition follow\n",
        "   The 'or' operator print when any of the one condition follow\n",
        "   The 'not' operator reverse the conditions of 'and' and 'or' '''\n",
        "\n",
        "\n",
        "print(\"Operation of 'and' operator\")\n",
        "\n",
        "c = int(input(\"enter value of first number: \"))\n",
        "k = int(input(\"enter value of second number: \"))\n",
        "\n",
        "if c > 0 and k > 0:\n",
        "    print(\"The numbers are greater than 0\")\n",
        "else:\n",
        "  print(\"Either one or both of the number is less than 0\")\n",
        "\n",
        "print(\"Operation of 'or' operator\")\n",
        "\n",
        "a = int(input(\"enter value of first number: \"))\n",
        "b = int(input(\"enter value of second number: \"))\n",
        "\n",
        "if a > 0 or b > 0:\n",
        "  print(\"Either one or both of the number is greater than 0\")\n",
        "else:\n",
        "  print(\"both of the numbers are less than 0\")\n",
        "\n",
        "print(\"Operation of 'not' operator\")\n",
        "\n",
        "m = int(input(\"enter value of first number: \"))\n",
        "d = int(input(\"enter value of second number: \"))\n",
        "\n",
        "if not m >= d:\n",
        "  print(\"a is less than or equal to b\")\n",
        "elif not c < k:\n",
        "  print(\"a is greater than b\")"
      ],
      "metadata": {
        "colab": {
          "base_uri": "https://localhost:8080/"
        },
        "id": "my6PJXxefsEd",
        "outputId": "ef526746-69cc-4759-a651-fa8c5d80ac1e"
      },
      "execution_count": 43,
      "outputs": [
        {
          "output_type": "stream",
          "name": "stdout",
          "text": [
            "Operation of 'and' operator\n",
            "enter value of first number: 66\n",
            "enter value of second number: 3\n",
            "The numbers are greater than 0\n",
            "Operation of 'or' operator\n",
            "enter value of first number: 34\n",
            "enter value of second number: 5\n",
            "Either one or both of the number is greater than 0\n",
            "Operation of 'not' operator\n",
            "enter value of first number: 2\n",
            "enter value of second number: 33\n",
            "a is less than or equal to b\n"
          ]
        }
      ]
    },
    {
      "cell_type": "markdown",
      "source": [
        "9. Write a Python program to convert user input from string to integer, float, and boolean types."
      ],
      "metadata": {
        "id": "MLgIoooUuNBx"
      }
    },
    {
      "cell_type": "code",
      "source": [
        "a = input(\"enter a value: \")\n",
        "\n",
        "print(\"choose 1 for type conversion to integer\")\n",
        "print(\"choose 2 for type conversion to float\")\n",
        "print(\"choose 3 for type conversion to bolean\")\n",
        "\n",
        "choice = int(input(\"enter your choice:- \"))\n",
        "\n",
        "if choice == 1:\n",
        "  b = int(a)\n",
        "  print(f\"original_value: {a}, updated_value: {b}\")\n",
        "  print(f\"original_type: {type(a)}, updated_type: {type(b)}\")\n",
        "\n",
        "elif choice == 2:\n",
        "  b = float(a)\n",
        "  print(f\"original_value: {a}, updated_value: {b}\")\n",
        "  print(f\"original_type: {type(a)}, updated_type: {type(b)}\")\n",
        "\n",
        "elif choice == 3:\n",
        "  b = bool(a)\n",
        "  print(f\"original_value: {a}, updated_value: {b}\")\n",
        "  print(f\"original_type: {type(a)}, updated_type: {type(b)}\")\n",
        "\n",
        "else:\n",
        "  print(\"Enter choice among 1/2/3\")\n"
      ],
      "metadata": {
        "colab": {
          "base_uri": "https://localhost:8080/"
        },
        "id": "FEvFd810gucu",
        "outputId": "c2ec13a3-fe25-48d1-baff-fa44b5c2e335"
      },
      "execution_count": 44,
      "outputs": [
        {
          "output_type": "stream",
          "name": "stdout",
          "text": [
            "enter a value: 55\n",
            "choose 1 for type conversion to integer\n",
            "choose 2 for type conversion to float\n",
            "choose 3 for type conversion to bolean\n",
            "enter your choice:- 3\n",
            "original_value: 55, updated_value: True\n",
            "original_type: <class 'str'>, updated_type: <class 'bool'>\n"
          ]
        }
      ]
    },
    {
      "cell_type": "markdown",
      "source": [
        "10. Write code to demonstrate type casting with list elements."
      ],
      "metadata": {
        "id": "wyHNBJp8uIG5"
      }
    },
    {
      "cell_type": "code",
      "source": [
        "# Convert a list of integers to a list of strings\n",
        "int_list = [10, 20, 30, 40]\n",
        "str_list = list(map(str, int_list))\n",
        "print(f\"Original integer list: {int_list}, type: {[type(item) for item in int_list]}\")\n",
        "print(f\"Converted string list: {str_list}, type: {[type(item) for item in str_list]}\")\n",
        "\n",
        "# Convert a list of strings (representing numbers) to a list of integers\n",
        "string_num_list = [\"9\", \"3\", \"1\", \"8\"]\n",
        "integer_list = list(map(int, string_num_list))\n",
        "print(f\"Original string number list: {string_num_list}, type: {[type(item) for item in string_num_list]}\")\n",
        "print(f\"Converted integer list: {integer_list}, type: {[type(item) for item in integer_list]}\")\n",
        "\n",
        "# Convert a list of integers to a list of floats\n",
        "another_int_list = [91, 21, 81]\n",
        "float_list = list(map(float, another_int_list))\n",
        "print(f\"Original integer list: {another_int_list}, type: {[type(item) for item in another_int_list]}\")\n",
        "print(f\"Converted float list: {float_list}, type: {[type(item) for item in float_list]}\")\n",
        ""
      ],
      "metadata": {
        "colab": {
          "base_uri": "https://localhost:8080/"
        },
        "id": "VJTIm_EHlZeP",
        "outputId": "8cc493a4-100c-44a2-9055-6417630ee7d7"
      },
      "execution_count": 45,
      "outputs": [
        {
          "output_type": "stream",
          "name": "stdout",
          "text": [
            "Original integer list: [10, 20, 30, 40], type: [<class 'int'>, <class 'int'>, <class 'int'>, <class 'int'>]\n",
            "Converted string list: ['10', '20', '30', '40'], type: [<class 'str'>, <class 'str'>, <class 'str'>, <class 'str'>]\n",
            "Original string number list: ['9', '3', '1', '8'], type: [<class 'str'>, <class 'str'>, <class 'str'>, <class 'str'>]\n",
            "Converted integer list: [9, 3, 1, 8], type: [<class 'int'>, <class 'int'>, <class 'int'>, <class 'int'>]\n",
            "Original integer list: [91, 21, 81], type: [<class 'int'>, <class 'int'>, <class 'int'>]\n",
            "Converted float list: [91.0, 21.0, 81.0], type: [<class 'float'>, <class 'float'>, <class 'float'>]\n"
          ]
        }
      ]
    },
    {
      "cell_type": "markdown",
      "source": [
        "11. Write a program that checks if a number is positive, negative, or zero."
      ],
      "metadata": {
        "id": "UKDs-US8uDry"
      }
    },
    {
      "cell_type": "code",
      "source": [
        "taken_number1 = int(input(\"enter a number: \"))\n",
        "\n",
        "#for the positive number\n",
        "\n",
        "if taken_number1 > 0:\n",
        "  print(f\"{taken_number1} is a positive number\")\n",
        "\n",
        "#for the negative number\n",
        "\n",
        "elif taken_number1 < 0:\n",
        "  print(f\"{taken_number1} is a negative number\")\n",
        "\n",
        "#for the zero\n",
        "\n",
        "else:\n",
        "  print(f\"{taken_number1} is zero\")"
      ],
      "metadata": {
        "colab": {
          "base_uri": "https://localhost:8080/"
        },
        "id": "_YZlDfE7lkRP",
        "outputId": "511638a1-d2df-4c80-92db-4e45ad69275f"
      },
      "execution_count": 46,
      "outputs": [
        {
          "output_type": "stream",
          "name": "stdout",
          "text": [
            "enter a number: 55\n",
            "55 is a positive number\n"
          ]
        }
      ]
    },
    {
      "cell_type": "markdown",
      "source": [
        " 12. Write a for loop to print numbers from 1 to 10"
      ],
      "metadata": {
        "id": "xWkapECst_ze"
      }
    },
    {
      "cell_type": "code",
      "source": [
        "for i in range(1, 11):\n",
        "  print(i)"
      ],
      "metadata": {
        "colab": {
          "base_uri": "https://localhost:8080/"
        },
        "id": "-DgiT2rqlkN4",
        "outputId": "f1bf91b3-6fee-4673-b7d4-09663543a2dd"
      },
      "execution_count": 47,
      "outputs": [
        {
          "output_type": "stream",
          "name": "stdout",
          "text": [
            "1\n",
            "2\n",
            "3\n",
            "4\n",
            "5\n",
            "6\n",
            "7\n",
            "8\n",
            "9\n",
            "10\n"
          ]
        }
      ]
    },
    {
      "cell_type": "markdown",
      "source": [
        " 13. Write a Python program to find the sum of all even numbers between 1 and 50."
      ],
      "metadata": {
        "id": "kiTv_j13t7oT"
      }
    },
    {
      "cell_type": "code",
      "source": [
        "# Python Program: Sum of Even Numbers Between 1 and 50\n",
        "\n",
        "def sum_even_numbers():\n",
        "    total = 0\n",
        "    for number in range(1, 51):\n",
        "        if number % 2 == 0:\n",
        "            total += number\n",
        "    return total\n",
        "\n",
        "# Display the result\n",
        "print(\"Sum of even numbers from 1 to 50 is:\", sum_even_numbers())"
      ],
      "metadata": {
        "colab": {
          "base_uri": "https://localhost:8080/"
        },
        "id": "PkeSKaVglkF3",
        "outputId": "9f2a2f42-6bf2-46a0-8fc4-f0edd61721ae"
      },
      "execution_count": 48,
      "outputs": [
        {
          "output_type": "stream",
          "name": "stdout",
          "text": [
            "Sum of even numbers from 1 to 50 is: 650\n"
          ]
        }
      ]
    },
    {
      "cell_type": "markdown",
      "source": [
        "14. Write a program to reverse a string using a while loop."
      ],
      "metadata": {
        "id": "g0sFgrjrt2Rm"
      }
    },
    {
      "cell_type": "code",
      "source": [
        "string = \"My name is Mrunali Kadwe \"\n",
        "print(type(string))\n",
        "print(f\"Original string: {string}\")\n",
        "\n",
        "\n",
        "reverse_string = string[::-5]\n",
        "print(f\"reverze string: {reverse_string}\")"
      ],
      "metadata": {
        "colab": {
          "base_uri": "https://localhost:8080/"
        },
        "id": "EgZBSMShlkCT",
        "outputId": "cdf2ad36-9382-4a78-bea1-bbe571092e4d"
      },
      "execution_count": 49,
      "outputs": [
        {
          "output_type": "stream",
          "name": "stdout",
          "text": [
            "<class 'str'>\n",
            "Original string: My name is Mrunali Kadwe \n",
            "reverze string:  Knsa\n"
          ]
        }
      ]
    },
    {
      "cell_type": "markdown",
      "source": [
        "15. Write a Python program to calculate the factorial of a number provided by the user using a while loop."
      ],
      "metadata": {
        "id": "WxDqbwfQts-I"
      }
    },
    {
      "cell_type": "code",
      "source": [
        "try:\n",
        "    num = int(input(\"Enter a non-negative integer to calculate its factorial: \"))\n",
        "except ValueError:\n",
        "    print(\"Invalid input. Please enter an integer.\")\n",
        "else:\n",
        "        factorial = 1\n",
        "        # Initialize a counter for the while loop\n",
        "        i = 1\n",
        "\n",
        "        # Use a while loop to calculate the factorial\n",
        "        while i <= num:\n",
        "            factorial *= i\n",
        "            i += 1\n",
        "        print(f\"The factorial of {num} is: {factorial}\")\n"
      ],
      "metadata": {
        "colab": {
          "base_uri": "https://localhost:8080/"
        },
        "id": "Vor7I_Ctlj_Y",
        "outputId": "95ebfef1-2731-4c8a-94b4-1c59ffc57fe8"
      },
      "execution_count": 50,
      "outputs": [
        {
          "output_type": "stream",
          "name": "stdout",
          "text": [
            "Enter a non-negative integer to calculate its factorial: 55\n",
            "The factorial of 55 is: 12696403353658275925965100847566516959580321051449436762275840000000000000\n"
          ]
        }
      ]
    }
  ]
}